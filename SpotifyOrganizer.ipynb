{
 "cells": [
  {
   "cell_type": "markdown",
   "metadata": {},
   "source": [
    "# Carga de librerías"
   ]
  },
  {
   "cell_type": "code",
   "execution_count": null,
   "metadata": {},
   "outputs": [],
   "source": [
    "# Basic\n",
    "import pandas as pd\n",
    "import numpy as np\n",
    "import time\n",
    "import os\n",
    "from tqdm import tqdm\n",
    "import re\n",
    "import requests\n",
    "import pickle\n",
    "# Scraping\n",
    "from selenium import webdriver\n",
    "from selenium.webdriver.common.by import By\n",
    "from selenium.webdriver.chrome.service import Service\n",
    "from webdriver_manager.chrome import ChromeDriverManager\n",
    "from selenium.webdriver.support import expected_conditions as EC\n",
    "from selenium.webdriver.support.wait import WebDriverWait\n",
    "from selenium.common import exceptions as SeleniumExceptions\n",
    "from selenium.webdriver.common.keys import Keys"
   ]
  },
  {
   "cell_type": "markdown",
   "metadata": {},
   "source": [
    "# Load web driver"
   ]
  },
  {
   "cell_type": "code",
   "execution_count": null,
   "metadata": {},
   "outputs": [],
   "source": [
    "chromeOptions = webdriver.ChromeOptions()\n",
    "chromeOptions.add_argument(\"--start-maximized\") # Maximize the browser window to ensure all elements are visible\n",
    "driver = webdriver.Chrome(service=Service(ChromeDriverManager().install()),\n",
    "                          options=chromeOptions)"
   ]
  },
  {
   "cell_type": "code",
   "execution_count": null,
   "metadata": {},
   "outputs": [],
   "source": [
    "root = \"https://open.spotify.com/collection/tracks\" # URL for liked songs"
   ]
  },
  {
   "cell_type": "code",
   "execution_count": null,
   "metadata": {},
   "outputs": [],
   "source": [
    "# Load cookies json\n",
    "import json\n",
    "with open('cookies.json', 'r') as f:\n",
    "    cookies = json.load(f)"
   ]
  },
  {
   "cell_type": "code",
   "execution_count": null,
   "metadata": {},
   "outputs": [],
   "source": [
    "for cookie in tqdm(cookies):\n",
    "  u = driver.execute_cdp_cmd(\n",
    "                  'Network.setCookie',\n",
    "                  {\n",
    "                      'domain': cookie['domain'],\n",
    "                      'path': cookie['path'],\n",
    "                      'name': cookie['name'],\n",
    "                      'value': cookie['value'],\n",
    "                      'httpOnly': cookie['httpOnly'],\n",
    "                      'secure': cookie['secure'],\n",
    "                  },\n",
    "              )"
   ]
  },
  {
   "cell_type": "code",
   "execution_count": null,
   "metadata": {},
   "outputs": [],
   "source": [
    "driver.get(root)"
   ]
  },
  {
   "cell_type": "markdown",
   "metadata": {},
   "source": [
    "# Start scraping"
   ]
  },
  {
   "cell_type": "code",
   "execution_count": null,
   "metadata": {},
   "outputs": [],
   "source": [
    "# Close library aside if it exists (can interfere with selectors and general layout)\n",
    "selector_aside_library = (By.CSS_SELECTOR, \"#Desktop_LeftSidebar_Id header\")\n",
    "selector_close_libray = (By.CSS_SELECTOR, \"button[data-encore-id='buttonTertiary']\")\n",
    "try:\n",
    "    WebDriverWait(driver, 5).until(EC.presence_of_element_located(selector_aside_library))\n",
    "    library_buttons = driver.find_element(*selector_aside_library).find_elements(*selector_close_libray)\n",
    "    if len(library_buttons) > 1: # If there are two buttons, library menu is open\n",
    "        library_buttons[0].click()\n",
    "except SeleniumExceptions.TimeoutException:\n",
    "    pass\n",
    "\n",
    "# Close player aside if it exists (can interfere with selectors and general layout)\n",
    "selector_aside_player = (By.CSS_SELECTOR, \"aside[aria-label]\")\n",
    "selector_close_aside = (By.CSS_SELECTOR, \"div[data-testid='PanelHeader_CloseButton']>button\")\n",
    "try:\n",
    "    WebDriverWait(driver, 5).until(EC.presence_of_element_located(selector_aside_player))\n",
    "    driver.find_element(*selector_aside_player).find_element(*selector_close_aside).click()\n",
    "except SeleniumExceptions.TimeoutException:\n",
    "    pass"
   ]
  },
  {
   "cell_type": "code",
   "execution_count": null,
   "metadata": {},
   "outputs": [],
   "source": [
    "df_songs = pd.DataFrame(columns=['title', 'artist', 'artist_link', 'artist_description'])"
   ]
  },
  {
   "cell_type": "markdown",
   "metadata": {},
   "source": [
    "## Scroll until load all songs"
   ]
  },
  {
   "cell_type": "code",
   "execution_count": null,
   "metadata": {},
   "outputs": [],
   "source": [
    "selector_songs_parent = (By.CSS_SELECTOR, \"div[data-testid='track-list']\")\n",
    "selector_songs_header = (By.CSS_SELECTOR, \"div.IpXjqI9ouS_N5zi0WM88\")\n",
    "selector_songs_container = (By.CSS_SELECTOR, \"div.JUa6JJNj7R_Y3i4P8YUX\")\n",
    "selector_song_title = (By.CSS_SELECTOR, \"a[data-testid='internal-track-link']\")\n",
    "selector_song_artist = (By.CSS_SELECTOR, \"a[data-testid='internal-track-link']~span a\") # Just first artist is taken\n",
    "try:\n",
    "    # Get the number of songs\n",
    "    songs_parent = WebDriverWait(driver, 10).until(\n",
    "        EC.presence_of_element_located(selector_songs_parent)\n",
    "    )\n",
    "    song_count = songs_parent.get_attribute(\"aria-rowcount\")\n",
    "    song_count = int(song_count) if song_count else 0\n",
    "    # Song container to scroll to\n",
    "    songs_container = songs_parent.find_element(*selector_songs_container)\n",
    "    body = driver.find_element(By.TAG_NAME, \"body\")\n",
    "    for i in tqdm(range(2, song_count + 1)): # Row 1 is the header\n",
    "      song = None\n",
    "      for j in range(10): # Scroll until find the song, max 10 tries\n",
    "        try:\n",
    "          song = songs_parent.find_element(By.CSS_SELECTOR, f\"div[role='row'][aria-rowindex='{i}']\")\n",
    "          break\n",
    "        except SeleniumExceptions.NoSuchElementException:\n",
    "          # Use Keys.PAGE_DOWN to scroll\n",
    "          songs_parent.find_element(*selector_songs_header).click() # Safe zone to click and enter to focus\n",
    "          body.send_keys(Keys.PAGE_DOWN)\n",
    "      if not song:\n",
    "        raise Exception(f\"Song {i} not found\")\n",
    "      song_title = song.find_element(*selector_song_title)\n",
    "      song_artists = song.find_elements(*selector_song_artist)\n",
    "      song_artist_links = [song_artist.get_attribute(\"href\") for song_artist in song_artists]\n",
    "      song_artist_names = [song_artist.text for song_artist in song_artists]\n",
    "      \n",
    "      df_song = pd.DataFrame({'title': [song_title.text],\n",
    "                              'artist': [song_artist_names[0] if len(song_artist_names) == 1 else song_artist_names],\n",
    "                              'artist_link': [song_artist_links[0] if len(song_artist_names) == 1 else song_artist_links],\n",
    "                              'artist_description': [None]})\n",
    "      df_songs = pd.concat([df_songs, df_song], ignore_index=True)\n",
    "      \n",
    "except SeleniumExceptions.TimeoutException:\n",
    "    raise Exception(\"Check if the page is loaded correctly and the CSS selector is correct\")"
   ]
  },
  {
   "cell_type": "markdown",
   "metadata": {},
   "source": [
    "## Select most common artist"
   ]
  },
  {
   "cell_type": "code",
   "execution_count": null,
   "metadata": {},
   "outputs": [],
   "source": [
    "# Pick most common artist, to reduce the number of requests\n",
    "songs_multi_artist = df_songs['artist'].apply(isinstance, args=(list,))\n",
    "df_songs_single_artist = df_songs[~songs_multi_artist]\n",
    "df_songs_multi_artist = df_songs[songs_multi_artist]\n",
    "\n",
    "artists_count = df_songs_single_artist['artist'].value_counts()\n",
    "artists_count_multi = df_songs_multi_artist['artist'].explode().value_counts()\n",
    "artists_count = pd.merge(artists_count, artists_count_multi, left_index=True, right_index=True, how='outer').fillna(0)\n",
    "artists_count = artists_count.sum(axis=1).sort_values(ascending=False)\n",
    "for i, song in df_songs_multi_artist.iterrows():\n",
    "  artists_list = [artist for artist in song['artist'] if artist != '']\n",
    "  artist_count = artists_count[artists_list]\n",
    "  most_common_artist = artist_count.idxmax()\n",
    "  artist_index = artists_list.index(most_common_artist)\n",
    "  link_most_common_artist = song['artist_link'][artist_index]\n",
    "  df_songs_multi_artist.at[i, 'artist'] = most_common_artist\n",
    "  df_songs_multi_artist.at[i, 'artist_link'] = link_most_common_artist\n",
    "df_songs = pd.concat([df_songs_single_artist, df_songs_multi_artist], ignore_index=True)"
   ]
  },
  {
   "cell_type": "markdown",
   "metadata": {},
   "source": [
    "## Load artists info"
   ]
  },
  {
   "cell_type": "code",
   "execution_count": null,
   "metadata": {},
   "outputs": [],
   "source": [
    "df_artists = pd.DataFrame(columns=['name', 'description', 'is_famous'])"
   ]
  },
  {
   "cell_type": "code",
   "execution_count": null,
   "metadata": {},
   "outputs": [],
   "source": [
    "def scrap_artists_info(artist_link: str, driver: webdriver.Chrome, listeners_threshold: int = 500_000) -> pd.DataFrame:\n",
    "  selector_artist_name = (By.CSS_SELECTOR, \"h1.encore-text-headline-large\")\n",
    "  selector_artist_listeners = (By.CSS_SELECTOR, \"button[aria-label] div.encore-text-body-medium-bold\")\n",
    "  selector_artist_description = (By.CSS_SELECTOR, \"button[aria-label] div.encore-text-body-medium\")\n",
    "  try:\n",
    "      driver.get(artist_link)\n",
    "      artist_name = WebDriverWait(driver, 10).until(\n",
    "          EC.presence_of_element_located(selector_artist_name)\n",
    "      ).text\n",
    "      artist_listeners = WebDriverWait(driver, 10).until(\n",
    "          EC.presence_of_element_located(selector_artist_listeners)\n",
    "      ).text\n",
    "      artist_listeners = int(''.join(re.findall(r'\\d+', artist_listeners)))\n",
    "      is_famous = artist_listeners > listeners_threshold\n",
    "      # Some artists don't have description\n",
    "      try:\n",
    "        artist_description = WebDriverWait(driver, 10).until(\n",
    "            EC.presence_of_element_located(selector_artist_description)\n",
    "        ).text\n",
    "      except SeleniumExceptions.TimeoutException:\n",
    "        artist_description = None\n",
    "      df_artist = pd.DataFrame({'name': [artist_name],\n",
    "                                'description': [artist_description],\n",
    "                                'is_famous': [is_famous]})\n",
    "      return df_artist\n",
    "  except SeleniumExceptions.TimeoutException:\n",
    "      raise Exception(\"Check if the page is loaded correctly and the CSS selector is correct\")\n",
    "  except ValueError:\n",
    "      raise Exception(\"Error parsing listeners count\")"
   ]
  },
  {
   "cell_type": "code",
   "execution_count": null,
   "metadata": {},
   "outputs": [],
   "source": [
    "def api_artists_info(artists_ids: list[str], followers_threshold: int = 1_000_000) -> pd.DataFrame:\n",
    "  client_id = os.getenv('SPOTIFY_CLIENT_ID')\n",
    "  client_secret = os.getenv('SPOTIFY_CLIENT_SECRET')\n",
    "  if not client_id or not client_secret:\n",
    "    raise Exception(\"Client ID and Client Secret are required for Spotify API\")\n",
    "  # Get access token\n",
    "  url = \"https://accounts.spotify.com/api/token\"\n",
    "  payload = {\n",
    "      'grant_type': 'client_credentials'\n",
    "  }\n",
    "  headers = {\n",
    "      'Content-Type': 'application/x-www-form-urlencoded'\n",
    "  }\n",
    "  response = requests.post(url, headers=headers, data=payload, auth=(client_id, client_secret))\n",
    "  if response.status_code == 200:\n",
    "      access_token = response.json().get('access_token')\n",
    "  else:\n",
    "      raise Exception(f\"Error: {response.status_code}\")\n",
    "  # Get artists info\n",
    "  query_ids = ','.join(artists_ids)\n",
    "  url = f'https://api.spotify.com/v1/artists?ids={query_ids}'\n",
    "  headers = {\n",
    "      'Authorization': f'Bearer {access_token}'\n",
    "  }\n",
    "  response = requests.get(url, headers=headers)\n",
    "  if response.status_code == 200:\n",
    "      artists_data = response.json()\n",
    "      df_artists = pd.DataFrame(columns=['name', 'description', 'followers', 'is_famous'])\n",
    "      for artist_data in artists_data['artists']:\n",
    "        followers = artist_data['followers']['total']\n",
    "        is_famous = followers > followers_threshold\n",
    "        df_artist_partial = pd.DataFrame({'name': [artist_data['name']],\n",
    "                                  'description': [artist_data['genres']],\n",
    "                                  'is_famous': [is_famous]})\n",
    "        df_artists = pd.concat([df_artists, df_artist_partial], ignore_index=True)\n",
    "  else:\n",
    "      raise Exception(f\"Error: {response.status_code}\")\n",
    "  return df_artists"
   ]
  },
  {
   "cell_type": "code",
   "execution_count": null,
   "metadata": {},
   "outputs": [],
   "source": [
    "df_songs['artist_id'] = df_songs['artist_link'].apply(lambda x: x.split('/')[-1])"
   ]
  },
  {
   "cell_type": "code",
   "execution_count": null,
   "metadata": {},
   "outputs": [],
   "source": [
    "api_artists_info(df_songs['artist_id'][0:5].tolist())"
   ]
  }
 ],
 "metadata": {
  "kernelspec": {
   "display_name": "spotifyOrganizator",
   "language": "python",
   "name": "python3"
  },
  "language_info": {
   "codemirror_mode": {
    "name": "ipython",
    "version": 3
   },
   "file_extension": ".py",
   "mimetype": "text/x-python",
   "name": "python",
   "nbconvert_exporter": "python",
   "pygments_lexer": "ipython3",
   "version": "3.11.10"
  }
 },
 "nbformat": 4,
 "nbformat_minor": 2
}
