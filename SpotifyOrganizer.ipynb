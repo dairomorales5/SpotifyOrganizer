{
 "cells": [
  {
   "cell_type": "markdown",
   "metadata": {},
   "source": [
    "# Carga de librerías"
   ]
  },
  {
   "cell_type": "code",
   "execution_count": 1,
   "metadata": {},
   "outputs": [],
   "source": [
    "# Basic\n",
    "import pandas as pd\n",
    "import numpy as np\n",
    "import time\n",
    "import os\n",
    "from tqdm import tqdm\n",
    "import re\n",
    "# Scraping\n",
    "from selenium import webdriver\n",
    "from selenium.webdriver.common.by import By\n",
    "from selenium.webdriver.chrome.service import Service\n",
    "from webdriver_manager.chrome import ChromeDriverManager\n",
    "from selenium.webdriver.support import expected_conditions as EC\n",
    "from selenium.webdriver.support.ui import WebDriverWait\n",
    "from selenium.common import exceptions as SeleniumExceptions\n",
    "from selenium.webdriver.common.keys import Keys\n",
    "from selenium.webdriver.common.action_chains import ActionChains"
   ]
  },
  {
   "cell_type": "markdown",
   "metadata": {},
   "source": [
    "# Load web driver"
   ]
  },
  {
   "cell_type": "code",
   "execution_count": 2,
   "metadata": {},
   "outputs": [],
   "source": [
    "driver = webdriver.Chrome(service=Service(ChromeDriverManager().install()))"
   ]
  },
  {
   "cell_type": "code",
   "execution_count": 3,
   "metadata": {},
   "outputs": [],
   "source": [
    "root = \"https://open.spotify.com/collection/tracks\""
   ]
  },
  {
   "cell_type": "code",
   "execution_count": 4,
   "metadata": {},
   "outputs": [],
   "source": [
    "# Load cookies json\n",
    "import json\n",
    "with open('cookies.json', 'r') as f:\n",
    "    cookies = json.load(f)"
   ]
  },
  {
   "cell_type": "code",
   "execution_count": 5,
   "metadata": {},
   "outputs": [
    {
     "name": "stderr",
     "output_type": "stream",
     "text": [
      "100%|██████████| 28/28 [00:00<00:00, 195.26it/s]\n"
     ]
    }
   ],
   "source": [
    "for cookie in tqdm(cookies):\n",
    "  u = driver.execute_cdp_cmd(\n",
    "                  'Network.setCookie',\n",
    "                  {\n",
    "                      'domain': cookie['domain'],\n",
    "                      'path': cookie['path'],\n",
    "                      'name': cookie['name'],\n",
    "                      'value': cookie['value'],\n",
    "                      'httpOnly': cookie['httpOnly'],\n",
    "                      'secure': cookie['secure'],\n",
    "                  },\n",
    "              )"
   ]
  },
  {
   "cell_type": "code",
   "execution_count": 6,
   "metadata": {},
   "outputs": [],
   "source": [
    "driver.get(root)"
   ]
  },
  {
   "cell_type": "markdown",
   "metadata": {},
   "source": [
    "# Start scraping"
   ]
  },
  {
   "cell_type": "code",
   "execution_count": 7,
   "metadata": {},
   "outputs": [],
   "source": [
    "df_songs = pd.DataFrame(columns=['title', 'artist', 'artist_link', 'artist_description'])"
   ]
  },
  {
   "cell_type": "markdown",
   "metadata": {},
   "source": [
    "## Scroll until load all songs"
   ]
  },
  {
   "cell_type": "code",
   "execution_count": null,
   "metadata": {},
   "outputs": [
    {
     "name": "stderr",
     "output_type": "stream",
     "text": [
      "100%|██████████| 262/262 [00:57<00:00,  4.56it/s]\n"
     ]
    }
   ],
   "source": [
    "selector_songs_parent = (By.CSS_SELECTOR, \"div[data-testid='track-list']\")\n",
    "selector_songs_container = (By.CSS_SELECTOR, \"div.JUa6JJNj7R_Y3i4P8YUX\")\n",
    "selector_song_title = (By.CSS_SELECTOR, \"a[data-testid='internal-track-link']\")\n",
    "selector_song_artist = (By.CSS_SELECTOR, \"a[data-testid='internal-track-link']~span a\")\n",
    "actions = ActionChains(driver)\n",
    "try:\n",
    "    # Get the number of songs\n",
    "    songs_parent = WebDriverWait(driver, 10).until(\n",
    "        EC.presence_of_element_located(selector_songs_parent)\n",
    "    )\n",
    "    song_count = songs_parent.get_attribute(\"aria-rowcount\")\n",
    "    song_count = int(song_count) if song_count else 0\n",
    "    # Song container to scroll to\n",
    "    songs_container = songs_parent.find_element(*selector_songs_container)\n",
    "    body = driver.find_element(By.TAG_NAME, \"body\")\n",
    "    for i in tqdm(range(2, song_count + 1)): # Row 1 is the header\n",
    "      song = None\n",
    "      for j in range(10): # Scroll until find the song, max 10 tries\n",
    "        try:\n",
    "          song = songs_parent.find_element(By.CSS_SELECTOR, f\"div[role='row'][aria-rowindex='{i}']\")\n",
    "          break\n",
    "        except SeleniumExceptions.NoSuchElementException:\n",
    "          # Use Keys.PAGE_DOWN to scroll\n",
    "          actions.move_to_element(songs_container).click().send_keys(Keys.PAGE_DOWN).perform()\n",
    "      if not song:\n",
    "        raise Exception(f\"Song {i} not found\")\n",
    "      song_title = song.find_element(*selector_song_title)\n",
    "      song_artist = song.find_element(*selector_song_artist)\n",
    "      song_artist_link = song_artist.get_attribute(\"href\")\n",
    "      \n",
    "      df_song = pd.DataFrame({'title': [song_title.text],\n",
    "                              'artist': [song_artist.text],\n",
    "                              'artist_link': [song_artist_link],\n",
    "                              'artist_description': [None]})\n",
    "      df_songs = pd.concat([df_songs, df_song], ignore_index=True)\n",
    "      \n",
    "except SeleniumExceptions.TimeoutException:\n",
    "    raise Exception(\"Check if the page is loaded correctly and the CSS selector is correct\")"
   ]
  },
  {
   "cell_type": "code",
   "execution_count": 12,
   "metadata": {},
   "outputs": [
    {
     "data": {
      "text/plain": [
       "(262, 4)"
      ]
     },
     "execution_count": 12,
     "metadata": {},
     "output_type": "execute_result"
    }
   ],
   "source": [
    "df_songs.shape"
   ]
  }
 ],
 "metadata": {
  "kernelspec": {
   "display_name": "spotifyOrganizator",
   "language": "python",
   "name": "python3"
  },
  "language_info": {
   "codemirror_mode": {
    "name": "ipython",
    "version": 3
   },
   "file_extension": ".py",
   "mimetype": "text/x-python",
   "name": "python",
   "nbconvert_exporter": "python",
   "pygments_lexer": "ipython3",
   "version": "3.11.10"
  }
 },
 "nbformat": 4,
 "nbformat_minor": 2
}
